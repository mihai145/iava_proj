{
  "cells": [
    {
      "cell_type": "code",
      "execution_count": null,
      "id": "8f33e321-c076-43e1-967d-83d678e5c09c",
      "metadata": {
        "id": "8f33e321-c076-43e1-967d-83d678e5c09c"
      },
      "outputs": [],
      "source": [
        "!unzip /content/RaFD.zip"
      ]
    },
    {
      "cell_type": "code",
      "source": [
        "!pip install face_recognition"
      ],
      "metadata": {
        "colab": {
          "base_uri": "https://localhost:8080/"
        },
        "id": "VHJfLT3r9WtO",
        "outputId": "325bd55f-24ec-4d73-e5ec-6b3fbcbd133f"
      },
      "id": "VHJfLT3r9WtO",
      "execution_count": null,
      "outputs": [
        {
          "output_type": "stream",
          "name": "stdout",
          "text": [
            "Collecting face_recognition\n",
            "  Downloading face_recognition-1.3.0-py2.py3-none-any.whl (15 kB)\n",
            "Collecting face-recognition-models>=0.3.0 (from face_recognition)\n",
            "  Downloading face_recognition_models-0.3.0.tar.gz (100.1 MB)\n",
            "\u001b[2K     \u001b[90m━━━━━━━━━━━━━━━━━━━━━━━━━━━━━━━━━━━━━━━━\u001b[0m \u001b[32m100.1/100.1 MB\u001b[0m \u001b[31m3.1 MB/s\u001b[0m eta \u001b[36m0:00:00\u001b[0m\n",
            "\u001b[?25h  Preparing metadata (setup.py) ... \u001b[?25l\u001b[?25hdone\n",
            "Requirement already satisfied: Click>=6.0 in /usr/local/lib/python3.10/dist-packages (from face_recognition) (8.1.7)\n",
            "Requirement already satisfied: dlib>=19.7 in /usr/local/lib/python3.10/dist-packages (from face_recognition) (19.24.4)\n",
            "Requirement already satisfied: numpy in /usr/local/lib/python3.10/dist-packages (from face_recognition) (1.25.2)\n",
            "Requirement already satisfied: Pillow in /usr/local/lib/python3.10/dist-packages (from face_recognition) (9.4.0)\n",
            "Building wheels for collected packages: face-recognition-models\n",
            "  Building wheel for face-recognition-models (setup.py) ... \u001b[?25l\u001b[?25hdone\n",
            "  Created wheel for face-recognition-models: filename=face_recognition_models-0.3.0-py2.py3-none-any.whl size=100566170 sha256=723970f42c4020862bfc1b1fce3fe74f5dd281532e99abf0b46a144071c6bfbd\n",
            "  Stored in directory: /root/.cache/pip/wheels/7a/eb/cf/e9eced74122b679557f597bb7c8e4c739cfcac526db1fd523d\n",
            "Successfully built face-recognition-models\n",
            "Installing collected packages: face-recognition-models, face_recognition\n",
            "Successfully installed face-recognition-models-0.3.0 face_recognition-1.3.0\n"
          ]
        }
      ]
    },
    {
      "cell_type": "code",
      "source": [
        "import PIL.Image\n",
        "import numpy as np\n",
        "import face_recognition\n",
        "\n",
        "def crop_to_square_with_face_center(image_path):\n",
        "    img = PIL.Image.open(image_path)\n",
        "    img_array = np.array(img)\n",
        "\n",
        "    face_locations = face_recognition.face_locations(img_array)\n",
        "\n",
        "    if len(face_locations) > 0:\n",
        "        # Assuming the first face is the main one\n",
        "        top, right, bottom, left = face_locations[0]\n",
        "\n",
        "        face_width = right - left\n",
        "        face_height = bottom - top\n",
        "        square_size = max(face_width, face_height)\n",
        "\n",
        "        left_crop = max(0, left + (face_width - square_size) // 2)\n",
        "        top_crop = max(0, top + (face_height - square_size) // 2)\n",
        "        right_crop = min(img.width, left_crop + square_size)\n",
        "        bottom_crop = min(img.height, top_crop + square_size)\n",
        "\n",
        "        cropped_img = img.crop((left_crop, top_crop, right_crop, bottom_crop))\n",
        "        cropped_img = cropped_img.resize((128, 128))\n",
        "        cropped_img.save(image_path)\n",
        "        return cropped_img\n",
        "    else:\n",
        "        return img\n",
        "\n"
      ],
      "metadata": {
        "id": "BqxERqef9WwF"
      },
      "id": "BqxERqef9WwF",
      "execution_count": null,
      "outputs": []
    },
    {
      "cell_type": "code",
      "execution_count": null,
      "id": "1453d57c-d875-41c4-b213-ef3744ee409f",
      "metadata": {
        "id": "1453d57c-d875-41c4-b213-ef3744ee409f"
      },
      "outputs": [],
      "source": [
        "# YALE dataset\n",
        "import os\n",
        "import shutil\n",
        "import PIL.Image\n",
        "\n",
        "def reorganize_yale_database(source_folder, destination_folder, subjects, conditions):\n",
        "    for condition in conditions:\n",
        "        os.makedirs(os.path.join(destination_folder, 'train', condition), exist_ok=True)\n",
        "        os.makedirs(os.path.join(destination_folder, 'test', condition), exist_ok=True)\n",
        "\n",
        "    for subject in subjects:\n",
        "        for idx, condition in enumerate(conditions):\n",
        "            source_path = os.path.join(source_folder, f\"{subject}.{condition}\")\n",
        "            dest_folder = 'test' if subject.endswith('13') or subject.endswith('15') else 'train'\n",
        "            dest_path = os.path.join(destination_folder, dest_folder, condition, f\"{subject}_{condition}.jpg\")\n",
        "            shutil.copy(source_path, dest_path)\n",
        "            cropped_image = crop_to_square_with_face_center(dest_path)\n",
        "\n",
        "# data folder contains 165 images\n",
        "source_folder = \"/content/data\"\n",
        "# RaFD folder contains labeled folders with their specific items\n",
        "destination_folder = \"/content/RaFD/\"\n",
        "subjects = ['subject0' + str(nr) if nr < 10 else 'subject' + str(nr) for nr in range(1, 16)]\n",
        "conditions = ['centerlight', 'happy', 'glasses', 'leftlight', 'noglasses', 'normal',\n",
        "              'rightlight', 'sad', 'sleepy', 'surprised', 'wink']\n",
        "\n",
        "reorganize_yale_database(source_folder, destination_folder, subjects, conditions)\n"
      ]
    },
    {
      "cell_type": "code",
      "source": [
        "from google.colab import drive\n",
        "import shutil\n",
        "import os\n",
        "\n",
        "drive.mount('/content/drive')\n",
        "\n",
        "source_folder = \"/content/RaFD/\"\n",
        "destination_folder = \"/content/drive/MyDrive/unu/\"\n",
        "shutil.copytree(source_folder, destination_folder)\n",
        "\n",
        "print(\"Folder copied to Google Drive successfully.\")"
      ],
      "metadata": {
        "colab": {
          "base_uri": "https://localhost:8080/"
        },
        "id": "eMcNffDPzgcs",
        "outputId": "89c1e021-b3ea-4009-e5ff-fb0dee3d4ec7"
      },
      "id": "eMcNffDPzgcs",
      "execution_count": null,
      "outputs": [
        {
          "output_type": "stream",
          "name": "stdout",
          "text": [
            "Drive already mounted at /content/drive; to attempt to forcibly remount, call drive.mount(\"/content/drive\", force_remount=True).\n",
            "Folder copied to Google Drive successfully.\n"
          ]
        }
      ]
    },
    {
      "cell_type": "code",
      "source": [],
      "metadata": {
        "id": "_yOvoYg5CvR_"
      },
      "id": "_yOvoYg5CvR_",
      "execution_count": null,
      "outputs": []
    }
  ],
  "metadata": {
    "kernelspec": {
      "display_name": "Python 3",
      "name": "python3"
    },
    "language_info": {
      "codemirror_mode": {
        "name": "ipython",
        "version": 3
      },
      "file_extension": ".py",
      "mimetype": "text/x-python",
      "name": "python",
      "nbconvert_exporter": "python",
      "pygments_lexer": "ipython3",
      "version": "3.10.12"
    },
    "colab": {
      "provenance": [],
      "gpuType": "T4"
    },
    "accelerator": "GPU"
  },
  "nbformat": 4,
  "nbformat_minor": 5
}