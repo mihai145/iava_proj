{
 "cells": [
  {
   "cell_type": "code",
   "execution_count": 41,
   "id": "730eabbd-1464-4a26-8409-91ee595bc069",
   "metadata": {},
   "outputs": [],
   "source": [
    "import glob\n",
    "import ntpath\n",
    "import cv2 as cv"
   ]
  },
  {
   "cell_type": "code",
   "execution_count": 44,
   "id": "df7e9be2-bfce-4882-8a9b-1663d4505c68",
   "metadata": {},
   "outputs": [],
   "source": [
    "def prep_vis_data(src_path, dest_path, dsize=(256, 256)):\n",
    "    for img_path in glob.glob(f'{src_path}/*.jpg'):\n",
    "        img = cv.imread(img_path)\n",
    "        basename = ntpath.basename(img_path)\n",
    "        resized = cv.resize(img, dsize, interpolation=cv.INTER_LINEAR)\n",
    "        cv.imwrite(dest_path + \"/\" + basename, resized)"
   ]
  },
  {
   "cell_type": "code",
   "execution_count": 45,
   "id": "f14facbd-482a-4e87-9768-7b4e832bf6b8",
   "metadata": {},
   "outputs": [],
   "source": [
    "prep_vis_data(\"data/vis/images/orig\", \"data/vis/images\")"
   ]
  },
  {
   "cell_type": "code",
   "execution_count": null,
   "id": "4583ad8b-1e93-4477-a87f-3b86aa1c752d",
   "metadata": {},
   "outputs": [],
   "source": []
  }
 ],
 "metadata": {
  "kernelspec": {
   "display_name": "Python 3 (ipykernel)",
   "language": "python",
   "name": "python3"
  },
  "language_info": {
   "codemirror_mode": {
    "name": "ipython",
    "version": 3
   },
   "file_extension": ".py",
   "mimetype": "text/x-python",
   "name": "python",
   "nbconvert_exporter": "python",
   "pygments_lexer": "ipython3",
   "version": "3.10.12"
  }
 },
 "nbformat": 4,
 "nbformat_minor": 5
}
