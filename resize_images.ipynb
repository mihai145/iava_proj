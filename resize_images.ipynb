{
  "cells": [
    {
      "cell_type": "code",
      "execution_count": 1,
      "metadata": {
        "colab": {
          "base_uri": "https://localhost:8080/"
        },
        "id": "mmRO1ijKmkLJ",
        "outputId": "4328d033-e912-407d-ee12-ab68ca27b332"
      },
      "outputs": [
        {
          "output_type": "stream",
          "name": "stdout",
          "text": [
            "--2024-04-14 09:33:18--  http://dlib.net/files/mmod_human_face_detector.dat.bz2\n",
            "Resolving dlib.net (dlib.net)... 107.180.26.78\n",
            "Connecting to dlib.net (dlib.net)|107.180.26.78|:80... connected.\n",
            "HTTP request sent, awaiting response... 200 OK\n",
            "Length: 694709 (678K)\n",
            "Saving to: ‘mmod_human_face_detector.dat.bz2’\n",
            "\n",
            "mmod_human_face_det 100%[===================>] 678.43K   460KB/s    in 1.5s    \n",
            "\n",
            "2024-04-14 09:33:20 (460 KB/s) - ‘mmod_human_face_detector.dat.bz2’ saved [694709/694709]\n",
            "\n"
          ]
        }
      ],
      "source": [
        "!wget http://dlib.net/files/mmod_human_face_detector.dat.bz2\n",
        "!bzip2 -d mmod_human_face_detector.dat.bz2"
      ]
    },
    {
      "cell_type": "code",
      "execution_count": 2,
      "metadata": {
        "id": "mDdn4USmnUeS"
      },
      "outputs": [],
      "source": [
        "import os\n",
        "import shutil\n",
        "import cv2 as cv\n",
        "import dlib\n",
        "import numpy as np\n",
        "from skimage import io, color\n",
        "import matplotlib.pyplot as plt"
      ]
    },
    {
      "cell_type": "code",
      "execution_count": 3,
      "metadata": {
        "id": "Wk1qWIGkwzv-"
      },
      "outputs": [],
      "source": [
        "face_detector = dlib.cnn_face_detection_model_v1(\"mmod_human_face_detector.dat\")"
      ]
    },
    {
      "cell_type": "code",
      "execution_count": 5,
      "metadata": {
        "id": "kpY09z9I3IGw"
      },
      "outputs": [],
      "source": [
        "from google.colab.patches import cv2_imshow\n",
        "\n",
        "def crop_and_resize(img_name, output_img_name, face_detector, face_detector_lib='dlib'):\n",
        "    img = io.imread(img_name)\n",
        "    if img.ndim == 2:\n",
        "        img = color.gray2rgb(img)\n",
        "    elif img.shape[-1] == 4:\n",
        "        img = img[..., :3]\n",
        "\n",
        "    if face_detector_lib == 'dlib':\n",
        "        detected_faces = face_detector(cv.cvtColor(img[..., ::-1].copy(), cv.COLOR_BGR2GRAY))\n",
        "\n",
        "    face = detected_faces[0].rect\n",
        "\n",
        "    test_img = cv.cvtColor(img.copy(), cv.COLOR_RGB2BGR)\n",
        "\n",
        "    # Centrul fetei\n",
        "    face_center_x = face.left() + (face.right() - face.left()) // 2\n",
        "    face_center_y = face.top() + (face.bottom() - face.top()) // 2\n",
        "\n",
        "    # Calculam top-left si bottom-right pentru ca sa obtinem o imagine\n",
        "    # cu shape multiplu de (178, 218)\n",
        "    width, height, _ = test_img.shape\n",
        "    alpha = min(round(height / 178, 1), round(width / 218, 1))\n",
        "    crop_width = round(178 * alpha)\n",
        "    crop_height = round(218 * alpha)\n",
        "\n",
        "    crop_x1 = max(0, face_center_x - crop_width // 2)\n",
        "    crop_y1 = max(0, face_center_y - crop_height // 2)\n",
        "    crop_x2 = min(test_img.shape[1], face_center_x + crop_width // 2)\n",
        "    crop_y2 = min(test_img.shape[0], face_center_y + crop_height // 2)\n",
        "\n",
        "    test_img = test_img[crop_y1:crop_y2, crop_x1:crop_x2]\n",
        "    test_img = cv.resize(test_img, dsize=(178, 218),\n",
        "                    interpolation=cv.INTER_LINEAR)\n",
        "\n",
        "    final = cv.cvtColor(test_img.copy(), cv.COLOR_BGR2RGB)\n",
        "    io.imsave(output_img_name, final)\n",
        "    # cv2_imshow(final)"
      ]
    },
    {
      "cell_type": "code",
      "execution_count": null,
      "metadata": {
        "id": "JwUgo5lA3IDr"
      },
      "outputs": [],
      "source": [
        "# crop_and_resize(\n",
        "#     img_name=f\"/content/capture.png\",\n",
        "#     output_img_name=f\"/content/4.jpg\",\n",
        "#     face_detector=face_detector)"
      ]
    },
    {
      "cell_type": "code",
      "source": [
        "!unzip /content/data.zip"
      ],
      "metadata": {
        "id": "gImM67m431Vh"
      },
      "execution_count": null,
      "outputs": []
    },
    {
      "cell_type": "code",
      "source": [
        "import os\n",
        "import shutil\n",
        "import PIL.Image\n",
        "\n",
        "def reorganize_yale_database(source_folder, destination_folder, subjects, conditions):\n",
        "    for condition in conditions:\n",
        "        os.makedirs(os.path.join(destination_folder, 'train', condition), exist_ok=True)\n",
        "        os.makedirs(os.path.join(destination_folder, 'test', condition), exist_ok=True)\n",
        "\n",
        "    for subject in subjects:\n",
        "        for idx, condition in enumerate(conditions):\n",
        "            source_path = os.path.join(source_folder, f\"{subject}.{condition}\")\n",
        "            dest_folder = 'test' if subject.endswith('13') or subject.endswith('15') else 'train'\n",
        "            dest_path = os.path.join(destination_folder, dest_folder, condition, f\"{subject}_{condition}.jpg\")\n",
        "            shutil.copy(source_path, dest_path)\n",
        "            cropped_image = crop_and_resize(dest_path, dest_path, face_detector=face_detector)\n",
        "\n",
        "# data folder contains 165 images\n",
        "source_folder = \"/content/data\"\n",
        "# RaFD folder contains labeled folders with their specific items\n",
        "destination_folder = \"/content/RaFD/\"\n",
        "subjects = ['subject0' + str(nr) if nr < 10 else 'subject' + str(nr) for nr in range(1, 16)]\n",
        "conditions = ['centerlight', 'happy', 'glasses', 'leftlight', 'noglasses', 'normal',\n",
        "              'rightlight', 'sad', 'sleepy', 'surprised', 'wink']\n",
        "\n",
        "reorganize_yale_database(source_folder, destination_folder, subjects, conditions)"
      ],
      "metadata": {
        "id": "W6KAmvTKl8Aw"
      },
      "execution_count": null,
      "outputs": []
    },
    {
      "cell_type": "code",
      "source": [
        "from google.colab import drive\n",
        "import shutil\n",
        "import os\n",
        "\n",
        "drive.mount('/content/drive')\n",
        "\n",
        "source_folder = \"/content/RaFD/\"\n",
        "destination_folder = \"/content/drive/MyDrive/RaFD-178x218/\"\n",
        "shutil.copytree(source_folder, destination_folder)\n",
        "\n",
        "print(\"Folder copied to Google Drive successfully.\")"
      ],
      "metadata": {
        "colab": {
          "base_uri": "https://localhost:8080/"
        },
        "id": "qvTcSkL89g6t",
        "outputId": "35c2f879-45d3-4314-a837-da05acff3523"
      },
      "execution_count": 10,
      "outputs": [
        {
          "output_type": "stream",
          "name": "stdout",
          "text": [
            "Drive already mounted at /content/drive; to attempt to forcibly remount, call drive.mount(\"/content/drive\", force_remount=True).\n",
            "Folder copied to Google Drive successfully.\n"
          ]
        }
      ]
    }
  ],
  "metadata": {
    "accelerator": "GPU",
    "colab": {
      "provenance": [],
      "gpuType": "T4"
    },
    "kernelspec": {
      "display_name": "Python 3",
      "name": "python3"
    },
    "language_info": {
      "name": "python",
      "version": "3.11.7"
    },
    "vscode": {
      "interpreter": {
        "hash": "b0fa6594d8f4cbf19f97940f81e996739fb7646882a419484c72d19e05852a7e"
      }
    }
  },
  "nbformat": 4,
  "nbformat_minor": 0
}